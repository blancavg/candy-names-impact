{
 "cells": [
  {
   "cell_type": "markdown",
   "id": "41a86d26",
   "metadata": {},
   "source": [
    "# Candy Candy: Cultural Impact on Name Trends\n",
    "\n",
    "**Author:** Blanca Vargas  \n",
    "Data-to-Content Creator, Applied AI, and Educator"
   ]
  },
  {
   "cell_type": "markdown",
   "id": "40eb44d4eabc91ea",
   "metadata": {},
   "source": [
    "## Introduction\n",
    "In the 1980s, the anime *Candy Candy* captivated audiences across Latin America and Europe. Beyond its emotional storytelling and beloved characters, its cultural footprint raised an intriguing question:\n",
    "\n",
    "**Could the popularity of a fictional character influence real-world name trends?**\n",
    "\n",
    "This notebook investigates that question through the lens of the character **Susana**, who played a pivotal role in a dramatic romantic twist that marked many childhoods. We explore the hypothesis:\n",
    "\n",
    "> *The broadcast of Candy Candy contributed to a measurable decline in the use of the name \"Susana\" in Spanish-speaking countries.*\n",
    "\n",
    "### 🇪What you'll find here:\n",
    "- **Data from Spain and Uruguay** (1970–2010)\n",
    "- Frequency analysis of names from the show: `Susana`, `Ana`, `Patricia`, and a neutral reference name\n",
    "- **Visualizations** of absolute and relative trends over time\n",
    "- A **statistical test** to evaluate whether Susana’s decline is significantly different\n",
    "\n",
    "This is both a data exploration and a cultural reflection — blending analytics with storytelling to trace how media can shape the choices people make when naming their children.\n",
    "\n",
    "Let’s begin. 🌸\n"
   ]
  },
  {
   "cell_type": "code",
   "execution_count": null,
   "id": "384b4465879039ba",
   "metadata": {
    "ExecuteTime": {
     "end_time": "2025-05-19T21:58:53.750633Z",
     "start_time": "2025-05-19T21:58:53.749315Z"
    }
   },
   "outputs": [],
   "source": []
  },
  {
   "cell_type": "markdown",
   "id": "eedfa2fe",
   "metadata": {},
   "source": [
    "## Load Data"
   ]
  },
  {
   "cell_type": "code",
   "execution_count": 1,
   "id": "d7b6388d",
   "metadata": {
    "ExecuteTime": {
     "end_time": "2025-05-19T21:58:54.296922Z",
     "start_time": "2025-05-19T21:58:53.763607Z"
    }
   },
   "outputs": [],
   "source": [
    "import pandas as pd\n",
    "\n",
    "esp_abs = pd.read_csv('./outputs/tables/frecuencia_absoluta_espana.csv')\n",
    "esp_rel = pd.read_csv('./outputs/tables/frecuencia_relativa_espana.csv')\n",
    "uru_abs = pd.read_csv('./outputs/tables/frecuencia_absoluta_uruguay.csv')\n",
    "uru_rel = pd.read_csv('./outputs/tables/frecuencia_relativa_uruguay.csv')"
   ]
  },
  {
   "cell_type": "markdown",
   "id": "6d9e5ca7",
   "metadata": {},
   "source": [
    "## Visualizing Trends"
   ]
  },
  {
   "cell_type": "markdown",
   "id": "bd1cebc2",
   "metadata": {},
   "source": [
    "## 🧪 Statistical Test: Chi-squared"
   ]
  },
  {
   "cell_type": "markdown",
   "id": "4080f9cc",
   "metadata": {},
   "source": [
    "## 🌺 Reflections and Closing Thoughts\n",
    "\n",
    "This exploration brought together two seemingly distant worlds: childhood nostalgia and data science.\n",
    "\n",
    "Our analysis showed that the name **Susana** declined notably after the 1980s in Spain, and that decline was **statistically more pronounced** than similar names like Ana or Patricia. Yet, we also observed that in Uruguay, where *Candy Candy* had less media impact, the name Susana declined as well, reminding us that **multiple cultural and social forces** shape naming trends.\n",
    "\n",
    "So, while we can't claim that Candy Candy alone changed baby name choices, we can say this:\n",
    "\n",
    "> *In a country where the anime struck an emotional chord, the name of a character who broke many hearts seems to have quietly faded.*\n",
    "\n",
    "This notebook is not just about plots and p-values. It’s about how **fiction touches real life** — one name, one story, one generation at a time.\n",
    "\n",
    "Thanks for following along 💫\n"
   ]
  }
 ],
 "metadata": {
  "kernelspec": {
   "display_name": "Python 3 (ipykernel)",
   "language": "python",
   "name": "python3"
  },
  "language_info": {
   "codemirror_mode": {
    "name": "ipython",
    "version": 3
   },
   "file_extension": ".py",
   "mimetype": "text/x-python",
   "name": "python",
   "nbconvert_exporter": "python",
   "pygments_lexer": "ipython3",
   "version": "3.13.3"
  }
 },
 "nbformat": 4,
 "nbformat_minor": 5
}
